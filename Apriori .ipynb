{
 "cells": [
  {
   "cell_type": "code",
   "execution_count": null,
   "metadata": {},
   "outputs": [],
   "source": [
    "#importing Libraries\n",
    "import pandas as pd"
   ]
  },
  {
   "cell_type": "code",
   "execution_count": null,
   "metadata": {},
   "outputs": [],
   "source": [
    "#importing the dataset\n",
    "dataset = pd.read_csv('dataset_apriori.csv')"
   ]
  },
  {
   "cell_type": "code",
   "execution_count": null,
   "metadata": {
    "scrolled": true
   },
   "outputs": [],
   "source": [
    "#displaying the dataset\n",
    "dataset"
   ]
  },
  {
   "cell_type": "code",
   "execution_count": null,
   "metadata": {},
   "outputs": [],
   "source": [
    "#Data Slicing \n",
    "df_items = dataset['items']\n",
    "df_tid = dataset['tid']"
   ]
  },
  {
   "cell_type": "code",
   "execution_count": null,
   "metadata": {},
   "outputs": [],
   "source": [
    "df_items"
   ]
  },
  {
   "cell_type": "code",
   "execution_count": null,
   "metadata": {},
   "outputs": [],
   "source": [
    "df_tid"
   ]
  },
  {
   "cell_type": "markdown",
   "metadata": {},
   "source": [
    "<h2>Convert Items to Number</h2>"
   ]
  },
  {
   "cell_type": "code",
   "execution_count": null,
   "metadata": {},
   "outputs": [],
   "source": [
    "#data preprocessing \n",
    "dictionaries = {'Handphone': 1, 'Laptop': 2, 'Charger': 3, 'Powerbank': 4, 'Tablet': 5 }"
   ]
  },
  {
   "cell_type": "code",
   "execution_count": null,
   "metadata": {},
   "outputs": [],
   "source": [
    "type(df_items)"
   ]
  },
  {
   "cell_type": "code",
   "execution_count": null,
   "metadata": {},
   "outputs": [],
   "source": [
    "comma_splitted_df = df_items.apply(lambda x: x.split(','))"
   ]
  },
  {
   "cell_type": "code",
   "execution_count": null,
   "metadata": {},
   "outputs": [],
   "source": [
    "comma_splitted_df"
   ]
  },
  {
   "cell_type": "code",
   "execution_count": null,
   "metadata": {},
   "outputs": [],
   "source": [
    "numbered_col = []\n",
    "for i in range(len(comma_splitted_df)):\n",
    "    list_numbered = list(map(lambda x: dictionaries[x], comma_splitted_df[i]))\n",
    "    sort_numbered = sorted(list_numbered)\n",
    "    numbered_col.append(sort_numbered)\n",
    "\n",
    "numbered_col"
   ]
  },
  {
   "cell_type": "markdown",
   "metadata": {},
   "source": [
    "<h2>Create Dataframe from Numbered Items</h2>"
   ]
  },
  {
   "cell_type": "code",
   "execution_count": null,
   "metadata": {},
   "outputs": [],
   "source": [
    "#creating the dataframe\n",
    "dict_data = {'items': numbered_col}\n",
    "df = pd.DataFrame.from_dict(dict_data)"
   ]
  },
  {
   "cell_type": "code",
   "execution_count": null,
   "metadata": {},
   "outputs": [],
   "source": [
    "df"
   ]
  },
  {
   "cell_type": "code",
   "execution_count": null,
   "metadata": {
    "scrolled": true
   },
   "outputs": [],
   "source": [
    "pd.concat([df_tid, df], axis=1)"
   ]
  },
  {
   "cell_type": "code",
   "execution_count": null,
   "metadata": {
    "scrolled": false
   },
   "outputs": [],
   "source": [
    "items = []\n",
    "for i in range(len(df)):\n",
    "    for j in range(len(df['items'][i])):\n",
    "        items.append(df['items'][i][j])\n",
    "items"
   ]
  },
  {
   "cell_type": "markdown",
   "metadata": {},
   "source": [
    "<h2>Creating First Candidate (C1)</h2>"
   ]
  },
  {
   "cell_type": "code",
   "execution_count": null,
   "metadata": {},
   "outputs": [],
   "source": [
    "#Get unique element from list/array\n",
    "unique_item = set(items)\n",
    "unique_item"
   ]
  },
  {
   "cell_type": "code",
   "execution_count": null,
   "metadata": {},
   "outputs": [],
   "source": [
    "#Convert it to list\n",
    "list_unique_item = list(unique_item)\n",
    "list_unique_item"
   ]
  },
  {
   "cell_type": "code",
   "execution_count": null,
   "metadata": {},
   "outputs": [],
   "source": [
    "count_unique = []\n",
    "for value in (list_unique_item):\n",
    "    count_unique.append((value, items.count(value)))\n",
    "count_unique"
   ]
  },
  {
   "cell_type": "code",
   "execution_count": null,
   "metadata": {},
   "outputs": [],
   "source": [
    "candidate1_df = pd.DataFrame(count_unique, columns=[\"itemset\", \"sup\"])"
   ]
  },
  {
   "cell_type": "code",
   "execution_count": null,
   "metadata": {},
   "outputs": [],
   "source": [
    "candidate1_df"
   ]
  },
  {
   "cell_type": "markdown",
   "metadata": {},
   "source": [
    "<h2>Creating first Frequent Itemset (L1)</h2>"
   ]
  },
  {
   "cell_type": "code",
   "execution_count": null,
   "metadata": {},
   "outputs": [],
   "source": [
    "def filter_sup(candidate):\n",
    "    minimum_sup = 2\n",
    "    filtering = candidate['sup'] > minimum_sup\n",
    "    freq = candidate[filtering]\n",
    "    return freq"
   ]
  },
  {
   "cell_type": "code",
   "execution_count": null,
   "metadata": {},
   "outputs": [],
   "source": [
    "# filter_sup = candidate1_df['sup'] > minimum_sup\n",
    "freq_itemset1 = filter_sup(candidate1_df)"
   ]
  },
  {
   "cell_type": "code",
   "execution_count": null,
   "metadata": {},
   "outputs": [],
   "source": [
    "freq_itemset1"
   ]
  },
  {
   "cell_type": "markdown",
   "metadata": {},
   "source": [
    "## Create the Second Candidate (C2)\n",
    "* Self join"
   ]
  },
  {
   "cell_type": "code",
   "execution_count": null,
   "metadata": {},
   "outputs": [],
   "source": [
    "import numpy\n",
    "def self_join(prev_freq_itemset):\n",
    "    self_join_candidate = []\n",
    "    for i in range(len(prev_freq_itemset['itemset'])):\n",
    "        for j in range((i+1), len(prev_freq_itemset['itemset'])):\n",
    "            itemset_i = prev_freq_itemset['itemset'][i]\n",
    "            itemset_j = prev_freq_itemset['itemset'][j]\n",
    "            if(type(itemset_i) == numpy.int64 and type(itemset_j) == numpy.int64):\n",
    "                itemset_i = {itemset_i}\n",
    "                itemset_j = {itemset_j}\n",
    "            union_candidate = itemset_i.union(itemset_j)\n",
    "\n",
    "            if union_candidate not in self_join_candidate:\n",
    "                self_join_candidate.append(union_candidate)\n",
    "    return self_join_candidate"
   ]
  },
  {
   "cell_type": "code",
   "execution_count": null,
   "metadata": {
    "scrolled": true
   },
   "outputs": [],
   "source": [
    "candidate2_list = self_join(freq_itemset1)"
   ]
  },
  {
   "cell_type": "code",
   "execution_count": null,
   "metadata": {},
   "outputs": [],
   "source": [
    "candidate2_list"
   ]
  },
  {
   "cell_type": "code",
   "execution_count": null,
   "metadata": {},
   "outputs": [],
   "source": [
    "count_candidate2 = []\n",
    "\n",
    "#Set the Initial value of Second Count Candidate (C2)\n",
    "for i in range(len(candidate2_list)):\n",
    "    count_candidate2.append((candidate2_list[i], 0))\n",
    "\n",
    "count_candidate2"
   ]
  },
  {
   "cell_type": "code",
   "execution_count": null,
   "metadata": {},
   "outputs": [],
   "source": [
    "initial_df_candidate = pd.DataFrame(count_candidate2, columns=['itemset', 'sup'])"
   ]
  },
  {
   "cell_type": "code",
   "execution_count": null,
   "metadata": {},
   "outputs": [],
   "source": [
    "initial_df_candidate"
   ]
  },
  {
   "cell_type": "code",
   "execution_count": null,
   "metadata": {},
   "outputs": [],
   "source": [
    "#Let's see what's inside df\n",
    "df"
   ]
  },
  {
   "cell_type": "code",
   "execution_count": null,
   "metadata": {},
   "outputs": [],
   "source": [
    "#Let's add it with 1 whenever we found every candidate is a subset from Database D\n",
    "\n",
    "\n",
    "def count_support(database_dataframe, prev_candidate_list):\n",
    "    initial_df_candidate['sup'] = 0 #set All value into 0 only for initial value for consistency value when running this cell everytime.\n",
    "    count_prev_candidate = []\n",
    "\n",
    "    #Set the Initial value of Previous Candidate\n",
    "    for i in range(len(prev_candidate_list)):\n",
    "        count_prev_candidate.append((prev_candidate_list[i], 0))\n",
    "    \n",
    "    df_candidate = pd.DataFrame(count_prev_candidate, columns=['itemset', 'sup'])\n",
    "    print('Database D dataframe\\n', database_dataframe)\n",
    "    print('(Initial) Dataframe from Candidate with All zeros sup\\n', df_candidate)\n",
    "    \n",
    "    for i in range(len(database_dataframe)):\n",
    "        for j in range(len(count_prev_candidate)):\n",
    "            #using issubset() function to check whether every itemset is a subset of Database or not\n",
    "            if (df_candidate['itemset'][j]).issubset(set(database_dataframe['items'][i])): \n",
    "                df_candidate.loc[j, 'sup'] += 1\n",
    "            \n",
    "    return df_candidate"
   ]
  },
  {
   "cell_type": "code",
   "execution_count": null,
   "metadata": {},
   "outputs": [],
   "source": [
    "count_candidate2_df = count_support(df, candidate2_list)"
   ]
  },
  {
   "cell_type": "code",
   "execution_count": null,
   "metadata": {},
   "outputs": [],
   "source": [
    "count_candidate2_df"
   ]
  },
  {
   "cell_type": "markdown",
   "metadata": {},
   "source": [
    "# Creating Second Frequent Itemset (L2)"
   ]
  },
  {
   "cell_type": "code",
   "execution_count": null,
   "metadata": {},
   "outputs": [],
   "source": [
    "#Filter the itemset based on minimum support (occurences of items)\n",
    "freq_itemset2 = filter_sup(count_candidate2_df)"
   ]
  },
  {
   "cell_type": "code",
   "execution_count": null,
   "metadata": {},
   "outputs": [],
   "source": [
    "freq_itemset2"
   ]
  },
  {
   "cell_type": "code",
   "execution_count": null,
   "metadata": {},
   "outputs": [],
   "source": [
    "freq_itemset2_reset = freq_itemset2.reset_index(drop=True)"
   ]
  },
  {
   "cell_type": "code",
   "execution_count": null,
   "metadata": {},
   "outputs": [],
   "source": [
    "#We need to reset the index, because need to access the index later.\n",
    "freq_itemset2_reset"
   ]
  },
  {
   "cell_type": "markdown",
   "metadata": {},
   "source": [
    "## Creating the Third Candidate (C3) - Using the Candidate Forming Technique\n",
    "* Self join\n",
    "* Pruning"
   ]
  },
  {
   "cell_type": "markdown",
   "metadata": {},
   "source": [
    "## Self Join"
   ]
  },
  {
   "cell_type": "code",
   "execution_count": null,
   "metadata": {},
   "outputs": [],
   "source": [
    "print(freq_itemset2_reset)\n",
    "self_join_result = self_join(freq_itemset2_reset)\n",
    "print('self join result')\n",
    "print(self_join_result)"
   ]
  },
  {
   "cell_type": "markdown",
   "metadata": {},
   "source": [
    "## Pruning"
   ]
  },
  {
   "cell_type": "code",
   "execution_count": null,
   "metadata": {},
   "outputs": [],
   "source": [
    "def get_subset(candidate):\n",
    "    temp = []\n",
    "    final = []\n",
    "    for i in range(len(candidate)):\n",
    "        for j in range(len(candidate)):\n",
    "            if i != j:\n",
    "                temp.append(candidate[j])\n",
    "        temp_set = set(temp)\n",
    "        final.append(temp_set)\n",
    "        temp.clear()\n",
    "    print('Subset from {} : {}'.format(candidate, final))\n",
    "    return final\n",
    "\n",
    "def pruning(candidate_set, prev_freq_itemset):\n",
    "    print('Candidate set', candidate_set)\n",
    "    temp = []\n",
    "    \n",
    "    for idx, value in enumerate(candidate_set):\n",
    "        list_candidate = list(value)\n",
    "        temp_candidate = (get_subset(list_candidate))\n",
    "        \n",
    "        for temp_item in temp_candidate:\n",
    "            print('Temp item', temp_item)\n",
    "            check = temp_item == prev_freq_itemset['itemset']\n",
    "            print('\\nCheck candidate from Previous Frequent Itemset\\n', check)\n",
    "            \n",
    "            if any(check) == False:\n",
    "                print(any(check))\n",
    "                print('Val', value)\n",
    "            else:\n",
    "                print('\\nAll of {} subset contained in \\n{}'.format(candidate_set, prev_freq_itemset))\n",
    "                if value not in temp:\n",
    "                    temp.append(value)\n",
    "                \n",
    "    return temp"
   ]
  },
  {
   "cell_type": "code",
   "execution_count": null,
   "metadata": {},
   "outputs": [],
   "source": [
    "freq_itemset2_reset"
   ]
  },
  {
   "cell_type": "code",
   "execution_count": null,
   "metadata": {},
   "outputs": [],
   "source": [
    "subset = [{2, 3}, {1, 3}, {1, 2}]"
   ]
  },
  {
   "cell_type": "code",
   "execution_count": null,
   "metadata": {},
   "outputs": [],
   "source": [
    "self_join_result"
   ]
  },
  {
   "cell_type": "code",
   "execution_count": null,
   "metadata": {},
   "outputs": [],
   "source": [
    "for i in range(len(self_join_result)):\n",
    "    get_subset(list(self_join_result[i]))"
   ]
  },
  {
   "cell_type": "code",
   "execution_count": null,
   "metadata": {},
   "outputs": [],
   "source": [
    "freq_itemset2_reset"
   ]
  },
  {
   "cell_type": "code",
   "execution_count": null,
   "metadata": {},
   "outputs": [],
   "source": [
    "for item in subset:\n",
    "    print(item)\n",
    "    check = item == freq_itemset2_reset['itemset']\n",
    "    print('Check', any(check))"
   ]
  },
  {
   "cell_type": "code",
   "execution_count": null,
   "metadata": {},
   "outputs": [],
   "source": [
    "self_join_result"
   ]
  },
  {
   "cell_type": "code",
   "execution_count": null,
   "metadata": {
    "scrolled": false
   },
   "outputs": [],
   "source": [
    "candidate3_list = pruning(self_join_result, freq_itemset2_reset)"
   ]
  },
  {
   "cell_type": "code",
   "execution_count": null,
   "metadata": {},
   "outputs": [],
   "source": [
    "candidate3_list"
   ]
  },
  {
   "cell_type": "markdown",
   "metadata": {},
   "source": [
    "<h2>Creating the Third Frequent Itemset (L3)</h2>"
   ]
  },
  {
   "cell_type": "code",
   "execution_count": null,
   "metadata": {},
   "outputs": [],
   "source": [
    "#Let's see the database again\n",
    "df"
   ]
  },
  {
   "cell_type": "code",
   "execution_count": null,
   "metadata": {},
   "outputs": [],
   "source": [
    "#Then check the newest candidate value\n",
    "candidate3_list"
   ]
  },
  {
   "cell_type": "code",
   "execution_count": null,
   "metadata": {
    "scrolled": false
   },
   "outputs": [],
   "source": [
    "count_candidate3_df = count_support(df, candidate3_list)"
   ]
  },
  {
   "cell_type": "code",
   "execution_count": null,
   "metadata": {},
   "outputs": [],
   "source": [
    "count_candidate3_df"
   ]
  },
  {
   "cell_type": "code",
   "execution_count": null,
   "metadata": {},
   "outputs": [],
   "source": [
    "freq_itemset3 = filter_sup(count_candidate3_df)"
   ]
  },
  {
   "cell_type": "code",
   "execution_count": null,
   "metadata": {
    "scrolled": true
   },
   "outputs": [],
   "source": [
    "freq_itemset3"
   ]
  },
  {
   "cell_type": "markdown",
   "metadata": {},
   "source": [
    "## All Frequent Itemset"
   ]
  },
  {
   "cell_type": "code",
   "execution_count": null,
   "metadata": {
    "scrolled": true
   },
   "outputs": [],
   "source": [
    "#Let'see each frequent itemset (L)\n",
    "freq_itemset1"
   ]
  },
  {
   "cell_type": "code",
   "execution_count": null,
   "metadata": {
    "scrolled": true
   },
   "outputs": [],
   "source": [
    "freq_itemset2"
   ]
  },
  {
   "cell_type": "code",
   "execution_count": null,
   "metadata": {
    "scrolled": true
   },
   "outputs": [],
   "source": [
    "freq_itemset3"
   ]
  },
  {
   "cell_type": "code",
   "execution_count": null,
   "metadata": {},
   "outputs": [],
   "source": [
    "frequent_itemset = pd.concat([freq_itemset1, freq_itemset2, freq_itemset3], axis=0)"
   ]
  },
  {
   "cell_type": "code",
   "execution_count": null,
   "metadata": {},
   "outputs": [],
   "source": [
    "frequent_itemset"
   ]
  },
  {
   "cell_type": "code",
   "execution_count": null,
   "metadata": {},
   "outputs": [],
   "source": [
    "#Reset the index\n",
    "frequent_itemset_final = frequent_itemset.reset_index(drop=True)"
   ]
  },
  {
   "cell_type": "markdown",
   "metadata": {},
   "source": [
    "## Final Output of Freq. Itemset (L1-L3)"
   ]
  },
  {
   "cell_type": "code",
   "execution_count": null,
   "metadata": {
    "scrolled": true
   },
   "outputs": [],
   "source": [
    "frequent_itemset_final"
   ]
  }
 ],
 "metadata": {
  "kernelspec": {
   "display_name": "Python 3",
   "language": "python",
   "name": "python3"
  },
  "language_info": {
   "codemirror_mode": {
    "name": "ipython",
    "version": 3
   },
   "file_extension": ".py",
   "mimetype": "text/x-python",
   "name": "python",
   "nbconvert_exporter": "python",
   "pygments_lexer": "ipython3",
   "version": "3.7.4"
  }
 },
 "nbformat": 4,
 "nbformat_minor": 2
}
